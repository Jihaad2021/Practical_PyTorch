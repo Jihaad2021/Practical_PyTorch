{
  "nbformat": 4,
  "nbformat_minor": 0,
  "metadata": {
    "colab": {
      "provenance": [],
      "authorship_tag": "ABX9TyN9E6ja2RytZBDqgNlmkchB",
      "include_colab_link": true
    },
    "kernelspec": {
      "name": "python3",
      "display_name": "Python 3"
    },
    "language_info": {
      "name": "python"
    }
  },
  "cells": [
    {
      "cell_type": "markdown",
      "metadata": {
        "id": "view-in-github",
        "colab_type": "text"
      },
      "source": [
        "<a href=\"https://colab.research.google.com/github/Jihaad2021/Practical_PyTorch/blob/main/01_QuickStart.ipynb\" target=\"_parent\"><img src=\"https://colab.research.google.com/assets/colab-badge.svg\" alt=\"Open In Colab\"/></a>"
      ]
    },
    {
      "cell_type": "code",
      "execution_count": 3,
      "metadata": {
        "id": "89Y1uUuHNGNE"
      },
      "outputs": [],
      "source": [
        "## Working with data\n",
        "import torch \n",
        "from torch import nn \n",
        "from torch.utils.data import DataLoader \n",
        "from torchvision import datasets\n",
        "from torchvision.transforms import ToTensor"
      ]
    },
    {
      "cell_type": "code",
      "source": [
        "# Download training data from open datasets\n",
        "training_data = datasets.FashionMNIST(\n",
        "    root=\"data\",\n",
        "    train=True, \n",
        "    download=True, \n",
        "    transform=ToTensor(),\n",
        ")"
      ],
      "metadata": {
        "colab": {
          "base_uri": "https://localhost:8080/"
        },
        "id": "71oeNnk6NWA8",
        "outputId": "8e915035-6792-4d78-8477-036a38be9f20"
      },
      "execution_count": 4,
      "outputs": [
        {
          "output_type": "stream",
          "name": "stdout",
          "text": [
            "Downloading http://fashion-mnist.s3-website.eu-central-1.amazonaws.com/train-images-idx3-ubyte.gz\n",
            "Downloading http://fashion-mnist.s3-website.eu-central-1.amazonaws.com/train-images-idx3-ubyte.gz to data/FashionMNIST/raw/train-images-idx3-ubyte.gz\n"
          ]
        },
        {
          "output_type": "stream",
          "name": "stderr",
          "text": [
            "100%|██████████| 26421880/26421880 [00:03<00:00, 7099298.86it/s] \n"
          ]
        },
        {
          "output_type": "stream",
          "name": "stdout",
          "text": [
            "Extracting data/FashionMNIST/raw/train-images-idx3-ubyte.gz to data/FashionMNIST/raw\n",
            "\n",
            "Downloading http://fashion-mnist.s3-website.eu-central-1.amazonaws.com/train-labels-idx1-ubyte.gz\n",
            "Downloading http://fashion-mnist.s3-website.eu-central-1.amazonaws.com/train-labels-idx1-ubyte.gz to data/FashionMNIST/raw/train-labels-idx1-ubyte.gz\n"
          ]
        },
        {
          "output_type": "stream",
          "name": "stderr",
          "text": [
            "100%|██████████| 29515/29515 [00:00<00:00, 57942.30it/s]\n"
          ]
        },
        {
          "output_type": "stream",
          "name": "stdout",
          "text": [
            "Extracting data/FashionMNIST/raw/train-labels-idx1-ubyte.gz to data/FashionMNIST/raw\n",
            "\n",
            "Downloading http://fashion-mnist.s3-website.eu-central-1.amazonaws.com/t10k-images-idx3-ubyte.gz\n",
            "Downloading http://fashion-mnist.s3-website.eu-central-1.amazonaws.com/t10k-images-idx3-ubyte.gz to data/FashionMNIST/raw/t10k-images-idx3-ubyte.gz\n"
          ]
        },
        {
          "output_type": "stream",
          "name": "stderr",
          "text": [
            "100%|██████████| 4422102/4422102 [00:01<00:00, 2217335.64it/s]\n"
          ]
        },
        {
          "output_type": "stream",
          "name": "stdout",
          "text": [
            "Extracting data/FashionMNIST/raw/t10k-images-idx3-ubyte.gz to data/FashionMNIST/raw\n",
            "\n",
            "Downloading http://fashion-mnist.s3-website.eu-central-1.amazonaws.com/t10k-labels-idx1-ubyte.gz\n",
            "Downloading http://fashion-mnist.s3-website.eu-central-1.amazonaws.com/t10k-labels-idx1-ubyte.gz to data/FashionMNIST/raw/t10k-labels-idx1-ubyte.gz\n"
          ]
        },
        {
          "output_type": "stream",
          "name": "stderr",
          "text": [
            "100%|██████████| 5148/5148 [00:00<00:00, 10600037.80it/s]"
          ]
        },
        {
          "output_type": "stream",
          "name": "stdout",
          "text": [
            "Extracting data/FashionMNIST/raw/t10k-labels-idx1-ubyte.gz to data/FashionMNIST/raw\n",
            "\n"
          ]
        },
        {
          "output_type": "stream",
          "name": "stderr",
          "text": [
            "\n"
          ]
        }
      ]
    },
    {
      "cell_type": "code",
      "source": [
        "# Download test data from open datasets\n",
        "test_data = datasets.FashionMNIST(\n",
        "    root=\"data\",\n",
        "    train=False, \n",
        "    download=True, \n",
        "    transform=ToTensor(),\n",
        ")"
      ],
      "metadata": {
        "id": "7cwc-DNsN3Ya"
      },
      "execution_count": 6,
      "outputs": []
    },
    {
      "cell_type": "code",
      "source": [
        "batch_size = 64 \n",
        "\n",
        "# creating data loaders\n",
        "train_dataloader =DataLoader(training_data, batch_size=batch_size) \n",
        "test_dataloader =DataLoader(test_data, batch_size=batch_size) \n",
        "\n",
        "for X, y in test_dataloader:\n",
        "  print(f\"Shape of X [N, C, H, W]: {X.shape}\")\n",
        "  print(f\"Shape of y: {y.shape} {y.dtype}\")\n",
        "  break\n",
        "  "
      ],
      "metadata": {
        "colab": {
          "base_uri": "https://localhost:8080/"
        },
        "id": "EeBUIfRCN-yq",
        "outputId": "da834cf7-9117-44d8-fda8-a5d11c53ec84"
      },
      "execution_count": 7,
      "outputs": [
        {
          "output_type": "stream",
          "name": "stdout",
          "text": [
            "Shape of X [N, C, H, W]: torch.Size([64, 1, 28, 28])\n",
            "Shape of y: torch.Size([64]) torch.int64\n"
          ]
        }
      ]
    },
    {
      "cell_type": "code",
      "source": [
        "## Creating Models "
      ],
      "metadata": {
        "id": "x2u3sP8gUYE3"
      },
      "execution_count": 8,
      "outputs": []
    },
    {
      "cell_type": "code",
      "source": [
        "# Get cpu, gpu ir mps device for training\n",
        "device = (\n",
        "    \"cuda\"\n",
        "    if torch.cuda.is_available()\n",
        "    else \"mps\"\n",
        "    if torch.backends.mps.is_available()\n",
        "    else \"cpu\"\n",
        ")\n",
        "print(f\"Using {device} device\")"
      ],
      "metadata": {
        "colab": {
          "base_uri": "https://localhost:8080/"
        },
        "id": "7si5p1p0Ue0l",
        "outputId": "16c3e2bd-f0bc-415d-aa17-a725069b7c13"
      },
      "execution_count": 10,
      "outputs": [
        {
          "output_type": "stream",
          "name": "stdout",
          "text": [
            "Using cpu device\n"
          ]
        }
      ]
    },
    {
      "cell_type": "code",
      "source": [
        "# Define Model \n",
        "class NeuralNetwork(nn.Module):\n",
        "  def __init__(self):\n",
        "    super().__init__()\n",
        "    self.flatten = nn.Flatten()\n",
        "    self.linear_relu_stack = nn.Sequential(\n",
        "        nn.Linear(28*28, 512),\n",
        "        nn.ReLU(),\n",
        "        nn.Linear(512, 512),\n",
        "        nn.ReLU(),\n",
        "        nn.Linear(512, 10)\n",
        "    )\n",
        "  def forward(self, x):\n",
        "    x = self.flatten(x)\n",
        "    logits = self.linear_relu_stack(x)\n",
        "    return logits\n",
        "\n",
        "model = NeuralNetwork().to(device)\n",
        "print(model)"
      ],
      "metadata": {
        "colab": {
          "base_uri": "https://localhost:8080/"
        },
        "id": "igiKiiO7U1TY",
        "outputId": "833d5667-5c78-4250-bdb1-1480a7976c7f"
      },
      "execution_count": 12,
      "outputs": [
        {
          "output_type": "stream",
          "name": "stdout",
          "text": [
            "NeuralNetwork(\n",
            "  (flatten): Flatten(start_dim=1, end_dim=-1)\n",
            "  (linear_relu_stack): Sequential(\n",
            "    (0): Linear(in_features=784, out_features=512, bias=True)\n",
            "    (1): ReLU()\n",
            "    (2): Linear(in_features=512, out_features=512, bias=True)\n",
            "    (3): ReLU()\n",
            "    (4): Linear(in_features=512, out_features=10, bias=True)\n",
            "  )\n",
            ")\n"
          ]
        }
      ]
    },
    {
      "cell_type": "code",
      "source": [
        "## Optimizing the Model Parameters \n",
        "# to train model we need a loss function and an optimizer\n",
        "\n",
        "loss_fn = nn.CrossEntropyLoss()\n",
        "optimizer = torch.optim.SGD(model.parameters(), lr=1e-3) \n"
      ],
      "metadata": {
        "id": "FE2P3jYyV1Ys"
      },
      "execution_count": 13,
      "outputs": []
    },
    {
      "cell_type": "code",
      "source": [
        "# In a single training loop, the model makes predictions on the training dataset, and backpropagates\n",
        "# the prediction error to adjust the model's parameter\n",
        "\n",
        "def train(dataloader, model, loss_fn, optimizer):\n",
        "  size = len(dataloader.dataset)\n",
        "  model.train()\n",
        "  for batch, (X, y) in enumerate(dataloader):\n",
        "    X, y = X.to(device), y.to(device) \n",
        "\n",
        "    # compute prediction error \n",
        "    pred = model(X)\n",
        "    loss = loss_fn(pred, y)\n",
        "\n",
        "    # Backpropagation \n",
        "    optimizer.zero_grad()\n",
        "    loss.backward()\n",
        "    optimizer.step()\n",
        "\n",
        "    if batch % 100 == 0:\n",
        "      loss, current = loss.item(), (batch+1) * len(X)\n",
        "      print(f\"loss: {loss:>7f} [{current:>5d}/{size:>5d}]\")"
      ],
      "metadata": {
        "id": "PIZiR3BeWNqj"
      },
      "execution_count": 14,
      "outputs": []
    },
    {
      "cell_type": "code",
      "source": [
        "# we also check the models preformance againts the test datset to ensure it is learning\n",
        "def test(dataloader, model, loss_fn):\n",
        "    size = len(dataloader.dataset)\n",
        "    num_batches = len(dataloader)\n",
        "    model.eval()\n",
        "    test_loss, correct = 0, 0\n",
        "    with torch.no_grad():\n",
        "        for X, y in dataloader:\n",
        "            X, y = X.to(device), y.to(device)\n",
        "            pred = model(X)\n",
        "            test_loss += loss_fn(pred, y).item()\n",
        "            correct += (pred.argmax(1) == y).type(torch.float).sum().item()\n",
        "    test_loss /= num_batches\n",
        "    correct /= size\n",
        "    print(f\"Test Error: \\n Accuracy: {(100*correct):>0.1f}%, Avg loss: {test_loss:>8f} \\n\")"
      ],
      "metadata": {
        "id": "Pzs8ai8MXW00"
      },
      "execution_count": 17,
      "outputs": []
    },
    {
      "cell_type": "code",
      "source": [
        "# The training process is conducted over several iterations (epochs)\n",
        "# During each epoch the model learn parameter to make better predictions\n",
        "# We print the model accuracy and loss epoch\n",
        "# we'd like to see the accuracy increase and the loss decrease with every epoch \n",
        "epochs = 5 \n",
        "for t in range(epochs):\n",
        "  print(f\"Epoch {t+1}\\n-----------------\")\n",
        "  train(train_dataloader, model, loss_fn, optimizer)\n",
        "  test(test_dataloader, model, loss_fn) \n",
        "print(\"Done!\") "
      ],
      "metadata": {
        "colab": {
          "base_uri": "https://localhost:8080/"
        },
        "id": "f1iLUSRIYZEz",
        "outputId": "14be8048-7aa3-447b-c982-64ba88f03064"
      },
      "execution_count": 18,
      "outputs": [
        {
          "output_type": "stream",
          "name": "stdout",
          "text": [
            "Epoch 1\n",
            "-----------------\n",
            "loss: 2.169454 [   64/60000]\n",
            "loss: 2.155320 [ 6464/60000]\n",
            "loss: 2.112378 [12864/60000]\n",
            "loss: 2.132657 [19264/60000]\n",
            "loss: 2.069037 [25664/60000]\n",
            "loss: 2.018149 [32064/60000]\n",
            "loss: 2.054415 [38464/60000]\n",
            "loss: 1.979571 [44864/60000]\n",
            "loss: 1.981513 [51264/60000]\n",
            "loss: 1.911620 [57664/60000]\n",
            "Test Error: \n",
            " Accuracy: 54.8%, Avg loss: 1.908973 \n",
            "\n",
            "Epoch 2\n",
            "-----------------\n",
            "loss: 1.939980 [   64/60000]\n",
            "loss: 1.901160 [ 6464/60000]\n",
            "loss: 1.801827 [12864/60000]\n",
            "loss: 1.844767 [19264/60000]\n",
            "loss: 1.713524 [25664/60000]\n",
            "loss: 1.680834 [32064/60000]\n",
            "loss: 1.705090 [38464/60000]\n",
            "loss: 1.614334 [44864/60000]\n",
            "loss: 1.634528 [51264/60000]\n",
            "loss: 1.520567 [57664/60000]\n",
            "Test Error: \n",
            " Accuracy: 61.2%, Avg loss: 1.540060 \n",
            "\n",
            "Epoch 3\n",
            "-----------------\n",
            "loss: 1.610733 [   64/60000]\n",
            "loss: 1.561128 [ 6464/60000]\n",
            "loss: 1.425253 [12864/60000]\n",
            "loss: 1.490495 [19264/60000]\n",
            "loss: 1.357519 [25664/60000]\n",
            "loss: 1.370349 [32064/60000]\n",
            "loss: 1.378556 [38464/60000]\n",
            "loss: 1.313768 [44864/60000]\n",
            "loss: 1.341236 [51264/60000]\n",
            "loss: 1.234491 [57664/60000]\n",
            "Test Error: \n",
            " Accuracy: 64.0%, Avg loss: 1.261734 \n",
            "\n",
            "Epoch 4\n",
            "-----------------\n",
            "loss: 1.346180 [   64/60000]\n",
            "loss: 1.314118 [ 6464/60000]\n",
            "loss: 1.158346 [12864/60000]\n",
            "loss: 1.256939 [19264/60000]\n",
            "loss: 1.129229 [25664/60000]\n",
            "loss: 1.164667 [32064/60000]\n",
            "loss: 1.179983 [38464/60000]\n",
            "loss: 1.126559 [44864/60000]\n",
            "loss: 1.158069 [51264/60000]\n",
            "loss: 1.070510 [57664/60000]\n",
            "Test Error: \n",
            " Accuracy: 65.3%, Avg loss: 1.091770 \n",
            "\n",
            "Epoch 5\n",
            "-----------------\n",
            "loss: 1.168228 [   64/60000]\n",
            "loss: 1.159452 [ 6464/60000]\n",
            "loss: 0.984643 [12864/60000]\n",
            "loss: 1.115893 [19264/60000]\n",
            "loss: 0.990324 [25664/60000]\n",
            "loss: 1.026899 [32064/60000]\n",
            "loss: 1.058246 [38464/60000]\n",
            "loss: 1.007704 [44864/60000]\n",
            "loss: 1.040022 [51264/60000]\n",
            "loss: 0.968444 [57664/60000]\n",
            "Test Error: \n",
            " Accuracy: 66.2%, Avg loss: 0.983292 \n",
            "\n",
            "Done!\n"
          ]
        }
      ]
    },
    {
      "cell_type": "code",
      "source": [
        "## Saving Models \n",
        "torch.save(model.state_dict(), \"model.pth\")\n",
        "print(\"Saved PyTorch Model State to model.pth\")"
      ],
      "metadata": {
        "colab": {
          "base_uri": "https://localhost:8080/"
        },
        "id": "spuYS69aYwWc",
        "outputId": "4e8deb46-8ee8-4deb-e314-a3159a435f89"
      },
      "execution_count": 19,
      "outputs": [
        {
          "output_type": "stream",
          "name": "stdout",
          "text": [
            "Saved PyTorch Model State to model.pth\n"
          ]
        }
      ]
    },
    {
      "cell_type": "code",
      "source": [
        "## Loading Models \n",
        "# the process for loading includes re-creating the model structure and loading the state dictionary into it\n",
        "model = NeuralNetwork().to(device) \n",
        "model.load_state_dict(torch.load(\"model.pth\"))"
      ],
      "metadata": {
        "colab": {
          "base_uri": "https://localhost:8080/"
        },
        "id": "B_E87g4maV6W",
        "outputId": "c2eb5336-9307-432a-eaba-73ad9a6c09ba"
      },
      "execution_count": 20,
      "outputs": [
        {
          "output_type": "execute_result",
          "data": {
            "text/plain": [
              "<All keys matched successfully>"
            ]
          },
          "metadata": {},
          "execution_count": 20
        }
      ]
    },
    {
      "cell_type": "code",
      "source": [
        "# This model can now be used to make predictions\n",
        "classes = [\n",
        "    \"T-shirt/top\",\n",
        "    \"Trouser\",\n",
        "    \"Pullover\",\n",
        "    \"Dress\",\n",
        "    \"Coat\",\n",
        "    \"Sandal\",\n",
        "    \"Shirt\",\n",
        "    \"Sneaker\",\n",
        "    \"Bag\",\n",
        "    \"Ankle boot\",\n",
        "]\n",
        "\n",
        "model.eval()\n",
        "x, y = test_data[0][0], test_data[0][1]\n",
        "with torch.no_grad():\n",
        "    x = x.to(device)\n",
        "    pred = model(x)\n",
        "    predicted, actual = classes[pred[0].argmax(0)], classes[y]\n",
        "    print(f'Predicted: \"{predicted}\", Actual: \"{actual}\"')\n",
        "\n"
      ],
      "metadata": {
        "colab": {
          "base_uri": "https://localhost:8080/"
        },
        "id": "27GqKL74akNc",
        "outputId": "8f47a0d2-f4c9-44a0-fffd-8d06b04f962a"
      },
      "execution_count": 21,
      "outputs": [
        {
          "output_type": "stream",
          "name": "stdout",
          "text": [
            "Predicted: \"Ankle boot\", Actual: \"Ankle boot\"\n"
          ]
        }
      ]
    },
    {
      "cell_type": "code",
      "source": [],
      "metadata": {
        "id": "wkCK7XeUaoD0"
      },
      "execution_count": null,
      "outputs": []
    }
  ]
}